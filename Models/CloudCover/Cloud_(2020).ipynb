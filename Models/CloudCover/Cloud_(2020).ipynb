{
 "cells": [
  {
   "cell_type": "code",
   "execution_count": 1,
   "metadata": {},
   "outputs": [
    {
     "name": "stderr",
     "output_type": "stream",
     "text": [
      "Using TensorFlow backend.\n"
     ]
    },
    {
     "name": "stdout",
     "output_type": "stream",
     "text": [
      "['2009Mahi.csv', '2010Anur.csv', '2010Mahi.csv', '2011Anur.csv', '2011Mahi.csv', '2012Mahi.csv', '2019Anur.csv', '2019Colo - Copy - Copy.csv', '2019Colo.csv', 'Anur(test).csv', 'Batt.csv', 'Colo - Cloud.csv', 'Colo - Copy (2).csv', 'Colo - Copy.csv', 'Colo - Temp.csv', 'Colo(test) - Copy.csv', 'Colo(test).csv', 'Colo.csv', 'humidity.csv', 'PrecipMM.csv', 'PrecipMM2.csv', 'PrecipMM3.csv', 'PredictedTemp.csv', 'Temp(4).csv', 'TempPythonist(1).csv', 'TempPythonist(2).csv', 'TempPythonist(3).csv', 'TempV1(2).csv', 'TempV1.csv', 'TempV2.csv', 'Temp_(2020)', 'Temp_(2020).h5']\n"
     ]
    }
   ],
   "source": [
    "import pandas as pd\n",
    "import numpy as np\n",
    "import matplotlib.pyplot as plt\n",
    "import seaborn as sns\n",
    "from sklearn.preprocessing import MinMaxScaler\n",
    "from keras.models import Sequential\n",
    "from keras.layers import Dense\n",
    "from keras.layers import LSTM\n",
    "from keras.layers import Dropout\n",
    "import pprint\n",
    "%matplotlib inline\n",
    "\n",
    "import os\n",
    "print(os.listdir(\"../input\"))"
   ]
  },
  {
   "cell_type": "code",
   "execution_count": 2,
   "metadata": {},
   "outputs": [],
   "source": [
    "df = pd.read_csv('../input/Colo - Cloud.csv')"
   ]
  },
  {
   "cell_type": "code",
   "execution_count": 4,
   "metadata": {},
   "outputs": [
    {
     "data": {
      "text/html": [
       "<div>\n",
       "<style scoped>\n",
       "    .dataframe tbody tr th:only-of-type {\n",
       "        vertical-align: middle;\n",
       "    }\n",
       "\n",
       "    .dataframe tbody tr th {\n",
       "        vertical-align: top;\n",
       "    }\n",
       "\n",
       "    .dataframe thead th {\n",
       "        text-align: right;\n",
       "    }\n",
       "</style>\n",
       "<table border=\"1\" class=\"dataframe\">\n",
       "  <thead>\n",
       "    <tr style=\"text-align: right;\">\n",
       "      <th></th>\n",
       "      <th>Date</th>\n",
       "      <th>Cloudcover</th>\n",
       "    </tr>\n",
       "  </thead>\n",
       "  <tbody>\n",
       "    <tr>\n",
       "      <td>0</td>\n",
       "      <td>1/1/2009</td>\n",
       "      <td>5</td>\n",
       "    </tr>\n",
       "    <tr>\n",
       "      <td>1</td>\n",
       "      <td>2/1/2009</td>\n",
       "      <td>6</td>\n",
       "    </tr>\n",
       "    <tr>\n",
       "      <td>2</td>\n",
       "      <td>3/1/2009</td>\n",
       "      <td>4</td>\n",
       "    </tr>\n",
       "    <tr>\n",
       "      <td>3</td>\n",
       "      <td>4/1/2009</td>\n",
       "      <td>2</td>\n",
       "    </tr>\n",
       "    <tr>\n",
       "      <td>4</td>\n",
       "      <td>5/1/2009</td>\n",
       "      <td>11</td>\n",
       "    </tr>\n",
       "    <tr>\n",
       "      <td>...</td>\n",
       "      <td>...</td>\n",
       "      <td>...</td>\n",
       "    </tr>\n",
       "    <tr>\n",
       "      <td>4012</td>\n",
       "      <td>27/12/2019</td>\n",
       "      <td>29</td>\n",
       "    </tr>\n",
       "    <tr>\n",
       "      <td>4013</td>\n",
       "      <td>28/12/2019</td>\n",
       "      <td>40</td>\n",
       "    </tr>\n",
       "    <tr>\n",
       "      <td>4014</td>\n",
       "      <td>29/12/2019</td>\n",
       "      <td>8</td>\n",
       "    </tr>\n",
       "    <tr>\n",
       "      <td>4015</td>\n",
       "      <td>30/12/2019</td>\n",
       "      <td>23</td>\n",
       "    </tr>\n",
       "    <tr>\n",
       "      <td>4016</td>\n",
       "      <td>31/12/2019</td>\n",
       "      <td>49</td>\n",
       "    </tr>\n",
       "  </tbody>\n",
       "</table>\n",
       "<p>4017 rows × 2 columns</p>\n",
       "</div>"
      ],
      "text/plain": [
       "             Date  Cloudcover\n",
       "0        1/1/2009           5\n",
       "1        2/1/2009           6\n",
       "2        3/1/2009           4\n",
       "3        4/1/2009           2\n",
       "4        5/1/2009          11\n",
       "...           ...         ...\n",
       "4012  27/12/2019           29\n",
       "4013  28/12/2019           40\n",
       "4014  29/12/2019            8\n",
       "4015  30/12/2019           23\n",
       "4016  31/12/2019           49\n",
       "\n",
       "[4017 rows x 2 columns]"
      ]
     },
     "execution_count": 4,
     "metadata": {},
     "output_type": "execute_result"
    }
   ],
   "source": [
    "df"
   ]
  },
  {
   "cell_type": "code",
   "execution_count": 5,
   "metadata": {},
   "outputs": [],
   "source": [
    "df.Date=pd.to_datetime(df.Date)\n",
    "df=df.set_index('Date')"
   ]
  },
  {
   "cell_type": "code",
   "execution_count": 6,
   "metadata": {},
   "outputs": [
    {
     "data": {
      "text/html": [
       "<div>\n",
       "<style scoped>\n",
       "    .dataframe tbody tr th:only-of-type {\n",
       "        vertical-align: middle;\n",
       "    }\n",
       "\n",
       "    .dataframe tbody tr th {\n",
       "        vertical-align: top;\n",
       "    }\n",
       "\n",
       "    .dataframe thead th {\n",
       "        text-align: right;\n",
       "    }\n",
       "</style>\n",
       "<table border=\"1\" class=\"dataframe\">\n",
       "  <thead>\n",
       "    <tr style=\"text-align: right;\">\n",
       "      <th></th>\n",
       "      <th>Cloudcover</th>\n",
       "    </tr>\n",
       "    <tr>\n",
       "      <th>Date</th>\n",
       "      <th></th>\n",
       "    </tr>\n",
       "  </thead>\n",
       "  <tbody>\n",
       "    <tr>\n",
       "      <td>2009-01-01</td>\n",
       "      <td>5</td>\n",
       "    </tr>\n",
       "    <tr>\n",
       "      <td>2009-02-01</td>\n",
       "      <td>6</td>\n",
       "    </tr>\n",
       "    <tr>\n",
       "      <td>2009-03-01</td>\n",
       "      <td>4</td>\n",
       "    </tr>\n",
       "    <tr>\n",
       "      <td>2009-04-01</td>\n",
       "      <td>2</td>\n",
       "    </tr>\n",
       "    <tr>\n",
       "      <td>2009-05-01</td>\n",
       "      <td>11</td>\n",
       "    </tr>\n",
       "    <tr>\n",
       "      <td>...</td>\n",
       "      <td>...</td>\n",
       "    </tr>\n",
       "    <tr>\n",
       "      <td>2019-12-27</td>\n",
       "      <td>29</td>\n",
       "    </tr>\n",
       "    <tr>\n",
       "      <td>2019-12-28</td>\n",
       "      <td>40</td>\n",
       "    </tr>\n",
       "    <tr>\n",
       "      <td>2019-12-29</td>\n",
       "      <td>8</td>\n",
       "    </tr>\n",
       "    <tr>\n",
       "      <td>2019-12-30</td>\n",
       "      <td>23</td>\n",
       "    </tr>\n",
       "    <tr>\n",
       "      <td>2019-12-31</td>\n",
       "      <td>49</td>\n",
       "    </tr>\n",
       "  </tbody>\n",
       "</table>\n",
       "<p>4017 rows × 1 columns</p>\n",
       "</div>"
      ],
      "text/plain": [
       "            Cloudcover\n",
       "Date                  \n",
       "2009-01-01           5\n",
       "2009-02-01           6\n",
       "2009-03-01           4\n",
       "2009-04-01           2\n",
       "2009-05-01          11\n",
       "...                ...\n",
       "2019-12-27          29\n",
       "2019-12-28          40\n",
       "2019-12-29           8\n",
       "2019-12-30          23\n",
       "2019-12-31          49\n",
       "\n",
       "[4017 rows x 1 columns]"
      ]
     },
     "execution_count": 6,
     "metadata": {},
     "output_type": "execute_result"
    }
   ],
   "source": [
    "df"
   ]
  },
  {
   "cell_type": "code",
   "execution_count": 7,
   "metadata": {},
   "outputs": [],
   "source": [
    "TestData = df.tail(365)"
   ]
  },
  {
   "cell_type": "code",
   "execution_count": 8,
   "metadata": {},
   "outputs": [],
   "source": [
    "Df_Total = pd.concat((df[[\"Cloudcover\"]], TestData[[\"Cloudcover\"]]), axis=0)"
   ]
  },
  {
   "cell_type": "code",
   "execution_count": 9,
   "metadata": {},
   "outputs": [
    {
     "data": {
      "text/plain": [
       "(4382, 1)"
      ]
     },
     "execution_count": 9,
     "metadata": {},
     "output_type": "execute_result"
    }
   ],
   "source": [
    "Df_Total.shape"
   ]
  },
  {
   "cell_type": "code",
   "execution_count": 10,
   "metadata": {},
   "outputs": [
    {
     "data": {
      "text/plain": [
       "(425, 1)"
      ]
     },
     "execution_count": 10,
     "metadata": {},
     "output_type": "execute_result"
    }
   ],
   "source": [
    "inputs = Df_Total[len(Df_Total) - len(TestData) - 60:].values\n",
    "inputs.shape"
   ]
  },
  {
   "cell_type": "code",
   "execution_count": 11,
   "metadata": {},
   "outputs": [],
   "source": [
    "from pandas.tseries.offsets import DateOffset\n",
    "add_dates = [df.index[-1] + DateOffset(days=x) for x in range(0,366)]\n",
    "future_dates = pd.DataFrame(index=add_dates[1:],columns=df.columns)"
   ]
  },
  {
   "cell_type": "code",
   "execution_count": 12,
   "metadata": {},
   "outputs": [
    {
     "data": {
      "text/html": [
       "<div>\n",
       "<style scoped>\n",
       "    .dataframe tbody tr th:only-of-type {\n",
       "        vertical-align: middle;\n",
       "    }\n",
       "\n",
       "    .dataframe tbody tr th {\n",
       "        vertical-align: top;\n",
       "    }\n",
       "\n",
       "    .dataframe thead th {\n",
       "        text-align: right;\n",
       "    }\n",
       "</style>\n",
       "<table border=\"1\" class=\"dataframe\">\n",
       "  <thead>\n",
       "    <tr style=\"text-align: right;\">\n",
       "      <th></th>\n",
       "      <th>Cloudcover</th>\n",
       "    </tr>\n",
       "  </thead>\n",
       "  <tbody>\n",
       "    <tr>\n",
       "      <td>2020-01-01</td>\n",
       "      <td>NaN</td>\n",
       "    </tr>\n",
       "    <tr>\n",
       "      <td>2020-01-02</td>\n",
       "      <td>NaN</td>\n",
       "    </tr>\n",
       "    <tr>\n",
       "      <td>2020-01-03</td>\n",
       "      <td>NaN</td>\n",
       "    </tr>\n",
       "    <tr>\n",
       "      <td>2020-01-04</td>\n",
       "      <td>NaN</td>\n",
       "    </tr>\n",
       "    <tr>\n",
       "      <td>2020-01-05</td>\n",
       "      <td>NaN</td>\n",
       "    </tr>\n",
       "    <tr>\n",
       "      <td>...</td>\n",
       "      <td>...</td>\n",
       "    </tr>\n",
       "    <tr>\n",
       "      <td>2020-12-26</td>\n",
       "      <td>NaN</td>\n",
       "    </tr>\n",
       "    <tr>\n",
       "      <td>2020-12-27</td>\n",
       "      <td>NaN</td>\n",
       "    </tr>\n",
       "    <tr>\n",
       "      <td>2020-12-28</td>\n",
       "      <td>NaN</td>\n",
       "    </tr>\n",
       "    <tr>\n",
       "      <td>2020-12-29</td>\n",
       "      <td>NaN</td>\n",
       "    </tr>\n",
       "    <tr>\n",
       "      <td>2020-12-30</td>\n",
       "      <td>NaN</td>\n",
       "    </tr>\n",
       "  </tbody>\n",
       "</table>\n",
       "<p>365 rows × 1 columns</p>\n",
       "</div>"
      ],
      "text/plain": [
       "           Cloudcover\n",
       "2020-01-01        NaN\n",
       "2020-01-02        NaN\n",
       "2020-01-03        NaN\n",
       "2020-01-04        NaN\n",
       "2020-01-05        NaN\n",
       "...               ...\n",
       "2020-12-26        NaN\n",
       "2020-12-27        NaN\n",
       "2020-12-28        NaN\n",
       "2020-12-29        NaN\n",
       "2020-12-30        NaN\n",
       "\n",
       "[365 rows x 1 columns]"
      ]
     },
     "execution_count": 12,
     "metadata": {},
     "output_type": "execute_result"
    }
   ],
   "source": [
    "future_dates.tail(365)"
   ]
  },
  {
   "cell_type": "code",
   "execution_count": 13,
   "metadata": {},
   "outputs": [
    {
     "data": {
      "text/plain": [
       "(4017, 1)"
      ]
     },
     "execution_count": 13,
     "metadata": {},
     "output_type": "execute_result"
    }
   ],
   "source": [
    "df.shape"
   ]
  },
  {
   "cell_type": "code",
   "execution_count": 14,
   "metadata": {},
   "outputs": [],
   "source": [
    "Training_Set = df"
   ]
  },
  {
   "cell_type": "code",
   "execution_count": 15,
   "metadata": {},
   "outputs": [],
   "source": [
    "Training_Set = Training_Set.values\n",
    "sc = MinMaxScaler(feature_range=(0, 1))\n",
    "Train = sc.fit_transform(Training_Set)"
   ]
  },
  {
   "cell_type": "code",
   "execution_count": 16,
   "metadata": {},
   "outputs": [
    {
     "data": {
      "text/plain": [
       "(4017, 1)"
      ]
     },
     "execution_count": 16,
     "metadata": {},
     "output_type": "execute_result"
    }
   ],
   "source": [
    "Train.shape"
   ]
  },
  {
   "cell_type": "code",
   "execution_count": 17,
   "metadata": {},
   "outputs": [
    {
     "name": "stdout",
     "output_type": "stream",
     "text": [
      "(3957, 60, 1)\n",
      "(3957, 1)\n"
     ]
    }
   ],
   "source": [
    "X_Train = []\n",
    "Y_Train = []\n",
    "\n",
    "# Range should be fromm 60 Values to END\n",
    "for i in range(60, Train.shape[0]):\n",
    "   \n",
    "    # X_Train 0-59\n",
    "    X_Train.append(Train[i-60:i])\n",
    "   \n",
    "    # Y Would be 60 th Value based on past 60 Values\n",
    "    Y_Train.append(Train[i])\n",
    "\n",
    "# Convert into Numpy Array\n",
    "X_Train = np.array(X_Train)\n",
    "Y_Train = np.array(Y_Train)\n",
    "\n",
    "print(X_Train.shape)\n",
    "print(Y_Train.shape)"
   ]
  },
  {
   "cell_type": "code",
   "execution_count": 18,
   "metadata": {},
   "outputs": [
    {
     "data": {
      "text/plain": [
       "(3957, 60, 1)"
      ]
     },
     "execution_count": 18,
     "metadata": {},
     "output_type": "execute_result"
    }
   ],
   "source": [
    "X_Train = np.reshape(X_Train, newshape=(X_Train.shape[0], X_Train.shape[1], 1))\n",
    "X_Train.shape"
   ]
  },
  {
   "cell_type": "markdown",
   "metadata": {},
   "source": [
    "# Model"
   ]
  },
  {
   "cell_type": "code",
   "execution_count": 19,
   "metadata": {},
   "outputs": [],
   "source": [
    "regressor = Sequential()\n",
    "\n",
    "# Adding the first LSTM layer and some Dropout regularisation\n",
    "regressor.add(LSTM(units = 150, return_sequences = True,input_shape = (X_Train.shape[1], 1)))\n",
    "regressor.add(Dropout(0.2))\n",
    "\n",
    "# Adding a second LSTM layer and some Dropout regularisation\n",
    "regressor.add(LSTM(units = 150, return_sequences = True))\n",
    "regressor.add(Dropout(0.2))\n",
    "\n",
    "# Adding a third LSTM layer and some Dropout regularisation\n",
    "regressor.add(LSTM(units = 150, return_sequences = True))\n",
    "regressor.add(Dropout(0.2))\n",
    "\n",
    "# Adding a fourth LSTM layer and some Dropout regularisation\n",
    "regressor.add(LSTM(units = 150))\n",
    "regressor.add(Dropout(0.2))\n",
    "\n",
    "# Adding the output layer\n",
    "regressor.add(Dense(units = 1))"
   ]
  },
  {
   "cell_type": "code",
   "execution_count": 20,
   "metadata": {},
   "outputs": [
    {
     "name": "stdout",
     "output_type": "stream",
     "text": [
      "Model: \"sequential_1\"\n",
      "_________________________________________________________________\n",
      "Layer (type)                 Output Shape              Param #   \n",
      "=================================================================\n",
      "lstm_1 (LSTM)                (None, 60, 150)           91200     \n",
      "_________________________________________________________________\n",
      "dropout_1 (Dropout)          (None, 60, 150)           0         \n",
      "_________________________________________________________________\n",
      "lstm_2 (LSTM)                (None, 60, 150)           180600    \n",
      "_________________________________________________________________\n",
      "dropout_2 (Dropout)          (None, 60, 150)           0         \n",
      "_________________________________________________________________\n",
      "lstm_3 (LSTM)                (None, 60, 150)           180600    \n",
      "_________________________________________________________________\n",
      "dropout_3 (Dropout)          (None, 60, 150)           0         \n",
      "_________________________________________________________________\n",
      "lstm_4 (LSTM)                (None, 150)               180600    \n",
      "_________________________________________________________________\n",
      "dropout_4 (Dropout)          (None, 150)               0         \n",
      "_________________________________________________________________\n",
      "dense_1 (Dense)              (None, 1)                 151       \n",
      "=================================================================\n",
      "Total params: 633,151\n",
      "Trainable params: 633,151\n",
      "Non-trainable params: 0\n",
      "_________________________________________________________________\n"
     ]
    }
   ],
   "source": [
    "regressor.summary()\n",
    "# Compiling the RNN\n",
    "regressor.compile(optimizer = 'adam', loss = 'mean_squared_error')"
   ]
  },
  {
   "cell_type": "code",
   "execution_count": 21,
   "metadata": {},
   "outputs": [
    {
     "name": "stdout",
     "output_type": "stream",
     "text": [
      "Epoch 1/100\n",
      "3957/3957 [==============================] - 215s 54ms/step - loss: 0.0296\n",
      "Epoch 2/100\n",
      "3957/3957 [==============================] - 214s 54ms/step - loss: 0.0214\n",
      "Epoch 3/100\n",
      "3957/3957 [==============================] - 215s 54ms/step - loss: 0.0187\n",
      "Epoch 4/100\n",
      "3957/3957 [==============================] - 215s 54ms/step - loss: 0.0177\n",
      "Epoch 5/100\n",
      "3957/3957 [==============================] - 215s 54ms/step - loss: 0.0178\n",
      "Epoch 6/100\n",
      "3957/3957 [==============================] - 216s 55ms/step - loss: 0.0177\n",
      "Epoch 7/100\n",
      "3957/3957 [==============================] - 215s 54ms/step - loss: 0.0179\n",
      "Epoch 8/100\n",
      "3957/3957 [==============================] - 215s 54ms/step - loss: 0.0177\n",
      "Epoch 9/100\n",
      "3957/3957 [==============================] - 215s 54ms/step - loss: 0.0175\n",
      "Epoch 10/100\n",
      "3957/3957 [==============================] - 217s 55ms/step - loss: 0.0172\n",
      "Epoch 11/100\n",
      "3957/3957 [==============================] - 216s 55ms/step - loss: 0.0178\n",
      "Epoch 12/100\n",
      "3957/3957 [==============================] - 216s 54ms/step - loss: 0.0176\n",
      "Epoch 13/100\n",
      "3957/3957 [==============================] - 216s 55ms/step - loss: 0.0172\n",
      "Epoch 14/100\n",
      "3957/3957 [==============================] - 216s 55ms/step - loss: 0.0172\n",
      "Epoch 15/100\n",
      "3957/3957 [==============================] - 217s 55ms/step - loss: 0.0171\n",
      "Epoch 16/100\n",
      "3957/3957 [==============================] - 217s 55ms/step - loss: 0.0171\n",
      "Epoch 17/100\n",
      "3957/3957 [==============================] - 216s 55ms/step - loss: 0.0170\n",
      "Epoch 18/100\n",
      "3957/3957 [==============================] - 216s 55ms/step - loss: 0.0171\n",
      "Epoch 19/100\n",
      "3957/3957 [==============================] - 215s 54ms/step - loss: 0.0169\n",
      "Epoch 20/100\n",
      "3957/3957 [==============================] - 216s 54ms/step - loss: 0.0172\n",
      "Epoch 21/100\n",
      "3957/3957 [==============================] - 215s 54ms/step - loss: 0.0170\n",
      "Epoch 22/100\n",
      "3957/3957 [==============================] - 215s 54ms/step - loss: 0.0169\n",
      "Epoch 23/100\n",
      "3957/3957 [==============================] - 216s 55ms/step - loss: 0.0170\n",
      "Epoch 24/100\n",
      "3957/3957 [==============================] - 216s 54ms/step - loss: 0.0168\n",
      "Epoch 25/100\n",
      "3957/3957 [==============================] - 216s 55ms/step - loss: 0.0168\n",
      "Epoch 26/100\n",
      "3957/3957 [==============================] - 216s 54ms/step - loss: 0.0168\n",
      "Epoch 27/100\n",
      "3957/3957 [==============================] - 215s 54ms/step - loss: 0.0171\n",
      "Epoch 28/100\n",
      "3957/3957 [==============================] - 216s 54ms/step - loss: 0.0167\n",
      "Epoch 29/100\n",
      "3957/3957 [==============================] - 216s 55ms/step - loss: 0.0168\n",
      "Epoch 30/100\n",
      "3957/3957 [==============================] - 216s 55ms/step - loss: 0.0170\n",
      "Epoch 31/100\n",
      "3957/3957 [==============================] - 216s 55ms/step - loss: 0.0166\n",
      "Epoch 32/100\n",
      "3957/3957 [==============================] - 216s 54ms/step - loss: 0.0165\n",
      "Epoch 33/100\n",
      "3957/3957 [==============================] - 217s 55ms/step - loss: 0.0166\n",
      "Epoch 34/100\n",
      "3957/3957 [==============================] - 216s 54ms/step - loss: 0.0168\n",
      "Epoch 35/100\n",
      "3957/3957 [==============================] - 216s 54ms/step - loss: 0.0166\n",
      "Epoch 36/100\n",
      "3957/3957 [==============================] - 216s 55ms/step - loss: 0.0164\n",
      "Epoch 37/100\n",
      "3957/3957 [==============================] - 216s 55ms/step - loss: 0.0168\n",
      "Epoch 38/100\n",
      "3957/3957 [==============================] - 216s 54ms/step - loss: 0.0165\n",
      "Epoch 39/100\n",
      "3957/3957 [==============================] - 216s 55ms/step - loss: 0.0164\n",
      "Epoch 40/100\n",
      "3957/3957 [==============================] - 217s 55ms/step - loss: 0.0164\n",
      "Epoch 41/100\n",
      "3957/3957 [==============================] - 216s 55ms/step - loss: 0.0164\n",
      "Epoch 42/100\n",
      "3957/3957 [==============================] - 216s 55ms/step - loss: 0.0164\n",
      "Epoch 43/100\n",
      "3957/3957 [==============================] - 215s 54ms/step - loss: 0.0164\n",
      "Epoch 44/100\n",
      "3957/3957 [==============================] - 217s 55ms/step - loss: 0.0166\n",
      "Epoch 45/100\n",
      "3957/3957 [==============================] - 216s 54ms/step - loss: 0.0164\n",
      "Epoch 46/100\n",
      "3957/3957 [==============================] - 216s 55ms/step - loss: 0.0166\n",
      "Epoch 47/100\n",
      "3957/3957 [==============================] - 216s 55ms/step - loss: 0.0165\n",
      "Epoch 48/100\n",
      "3957/3957 [==============================] - 217s 55ms/step - loss: 0.0163\n",
      "Epoch 49/100\n",
      "3957/3957 [==============================] - 216s 55ms/step - loss: 0.0163\n",
      "Epoch 50/100\n",
      "3957/3957 [==============================] - 216s 55ms/step - loss: 0.0163\n",
      "Epoch 51/100\n",
      "3957/3957 [==============================] - 216s 54ms/step - loss: 0.0162\n",
      "Epoch 52/100\n",
      "3957/3957 [==============================] - 216s 54ms/step - loss: 0.0163\n",
      "Epoch 53/100\n",
      "3957/3957 [==============================] - 215s 54ms/step - loss: 0.0162\n",
      "Epoch 54/100\n",
      "3957/3957 [==============================] - 215s 54ms/step - loss: 0.0163\n",
      "Epoch 55/100\n",
      "3957/3957 [==============================] - 217s 55ms/step - loss: 0.0161\n",
      "Epoch 56/100\n",
      "3957/3957 [==============================] - 217s 55ms/step - loss: 0.0163\n",
      "Epoch 57/100\n",
      "3957/3957 [==============================] - 216s 55ms/step - loss: 0.0162\n",
      "Epoch 58/100\n",
      "3957/3957 [==============================] - 216s 55ms/step - loss: 0.0161\n",
      "Epoch 59/100\n",
      "3957/3957 [==============================] - 217s 55ms/step - loss: 0.0164\n",
      "Epoch 60/100\n",
      "3957/3957 [==============================] - 217s 55ms/step - loss: 0.0160\n",
      "Epoch 61/100\n",
      "3957/3957 [==============================] - 217s 55ms/step - loss: 0.0161\n",
      "Epoch 62/100\n",
      "3957/3957 [==============================] - 217s 55ms/step - loss: 0.0163\n",
      "Epoch 63/100\n",
      "3957/3957 [==============================] - 216s 55ms/step - loss: 0.0162\n",
      "Epoch 64/100\n",
      "3957/3957 [==============================] - 217s 55ms/step - loss: 0.0159\n",
      "Epoch 65/100\n",
      "3957/3957 [==============================] - 218s 55ms/step - loss: 0.0160\n",
      "Epoch 66/100\n",
      "3957/3957 [==============================] - 217s 55ms/step - loss: 0.0160\n",
      "Epoch 67/100\n",
      "3957/3957 [==============================] - 217s 55ms/step - loss: 0.0164\n",
      "Epoch 68/100\n",
      "3957/3957 [==============================] - 216s 55ms/step - loss: 0.0158\n",
      "Epoch 69/100\n",
      "3957/3957 [==============================] - 216s 55ms/step - loss: 0.0158\n",
      "Epoch 70/100\n",
      "3957/3957 [==============================] - 216s 55ms/step - loss: 0.0156\n",
      "Epoch 71/100\n",
      "3957/3957 [==============================] - 216s 55ms/step - loss: 0.0158\n",
      "Epoch 72/100\n",
      "3957/3957 [==============================] - 216s 54ms/step - loss: 0.0159\n",
      "Epoch 73/100\n",
      "3957/3957 [==============================] - 218s 55ms/step - loss: 0.0156\n",
      "Epoch 74/100\n",
      "3957/3957 [==============================] - 216s 55ms/step - loss: 0.0154\n",
      "Epoch 75/100\n",
      "3957/3957 [==============================] - 219s 55ms/step - loss: 0.0154\n",
      "Epoch 76/100\n",
      "3957/3957 [==============================] - 216s 55ms/step - loss: 0.0153\n",
      "Epoch 77/100\n",
      "3957/3957 [==============================] - 216s 54ms/step - loss: 0.0154\n",
      "Epoch 78/100\n",
      "3957/3957 [==============================] - 216s 55ms/step - loss: 0.0152\n",
      "Epoch 79/100\n",
      "3957/3957 [==============================] - 216s 54ms/step - loss: 0.0152\n",
      "Epoch 80/100\n",
      "3957/3957 [==============================] - 216s 55ms/step - loss: 0.0150\n",
      "Epoch 81/100\n",
      "3957/3957 [==============================] - 216s 55ms/step - loss: 0.0151\n",
      "Epoch 82/100\n",
      "3957/3957 [==============================] - 216s 55ms/step - loss: 0.0151\n",
      "Epoch 83/100\n",
      "3957/3957 [==============================] - 216s 55ms/step - loss: 0.0148\n",
      "Epoch 84/100\n",
      "3957/3957 [==============================] - 216s 55ms/step - loss: 0.0148\n",
      "Epoch 85/100\n",
      "3957/3957 [==============================] - 216s 55ms/step - loss: 0.0147\n",
      "Epoch 86/100\n",
      "3957/3957 [==============================] - 217s 55ms/step - loss: 0.0147\n",
      "Epoch 87/100\n",
      "3957/3957 [==============================] - 217s 55ms/step - loss: 0.0144\n",
      "Epoch 88/100\n",
      "3957/3957 [==============================] - 217s 55ms/step - loss: 0.0143\n",
      "Epoch 89/100\n",
      "3957/3957 [==============================] - 217s 55ms/step - loss: 0.0142\n",
      "Epoch 90/100\n",
      "3957/3957 [==============================] - 218s 55ms/step - loss: 0.0140\n",
      "Epoch 91/100\n",
      "3957/3957 [==============================] - 217s 55ms/step - loss: 0.0138\n",
      "Epoch 92/100\n",
      "3957/3957 [==============================] - 216s 55ms/step - loss: 0.0139\n",
      "Epoch 93/100\n",
      "3957/3957 [==============================] - 216s 55ms/step - loss: 0.0138\n",
      "Epoch 94/100\n"
     ]
    },
    {
     "name": "stdout",
     "output_type": "stream",
     "text": [
      "3957/3957 [==============================] - 221s 56ms/step - loss: 0.0138\n",
      "Epoch 95/100\n",
      "3957/3957 [==============================] - 225s 57ms/step - loss: 0.0135\n",
      "Epoch 96/100\n",
      "3957/3957 [==============================] - 217s 55ms/step - loss: 0.0133\n",
      "Epoch 97/100\n",
      "3957/3957 [==============================] - 215s 54ms/step - loss: 0.0129\n",
      "Epoch 98/100\n",
      "3957/3957 [==============================] - 215s 54ms/step - loss: 0.0130\n",
      "Epoch 99/100\n",
      "3957/3957 [==============================] - 215s 54ms/step - loss: 0.0129\n",
      "Epoch 100/100\n",
      "3957/3957 [==============================] - 221s 56ms/step - loss: 0.0127\n"
     ]
    },
    {
     "data": {
      "text/plain": [
       "<keras.callbacks.callbacks.History at 0x1f308494c08>"
      ]
     },
     "execution_count": 21,
     "metadata": {},
     "output_type": "execute_result"
    }
   ],
   "source": [
    "regressor.fit(X_Train,Y_Train, epochs = 100, batch_size = 6)"
   ]
  },
  {
   "cell_type": "code",
   "execution_count": 22,
   "metadata": {},
   "outputs": [
    {
     "data": {
      "text/plain": [
       "(365, 1)"
      ]
     },
     "execution_count": 22,
     "metadata": {},
     "output_type": "execute_result"
    }
   ],
   "source": [
    "future_dates.shape"
   ]
  },
  {
   "cell_type": "code",
   "execution_count": 23,
   "metadata": {},
   "outputs": [],
   "source": [
    "inputs = Df_Total[len(Df_Total) - len(TestData) - 60:].values\n",
    "\n",
    "# We need to Reshape\n",
    "inputs = inputs.reshape(-1,1)\n",
    "\n",
    "# Normalize the Dataset\n",
    "inputs = sc.transform(inputs)\n",
    "\n",
    "X_test = []\n",
    "for i in range(60, 425):\n",
    "    X_test.append(inputs[i-60:i])\n",
    "       \n",
    "# Convert into Numpy Array\n",
    "X_test = np.array(X_test)\n",
    "\n",
    "# Reshape before Passing to Network\n",
    "X_test = np.reshape(X_test, (X_test.shape[0], X_test.shape[1], 1))\n",
    "\n",
    "# Pass to Model\n",
    "predicted_Precip = regressor.predict(X_test)\n",
    "\n",
    "# Do inverse Transformation to get Values\n",
    "predicted_Precip = sc.inverse_transform(predicted_Precip)"
   ]
  },
  {
   "cell_type": "code",
   "execution_count": 24,
   "metadata": {},
   "outputs": [],
   "source": [
    "True_Precip = 0\n",
    "Predicted_Precip  = predicted_Precip\n",
    "dates = TestData.index.to_list()"
   ]
  },
  {
   "cell_type": "code",
   "execution_count": 25,
   "metadata": {},
   "outputs": [],
   "source": [
    "#df_predict = pd.DataFrame(scaler.inverse_transform(pred_list), index=future_dates[-n_input:].index, columns=['Predictions'])\n",
    "Machine_Df2 = pd.DataFrame(data={\n",
    "    \"Date\":future_dates.index.to_list(),\n",
    "    \"TrueCloudcover\": True_Precip,\n",
    "    \"PredictedCloudcover\":[x[0] for x in predicted_Precip]\n",
    "})"
   ]
  },
  {
   "cell_type": "code",
   "execution_count": 26,
   "metadata": {},
   "outputs": [
    {
     "data": {
      "text/html": [
       "<div>\n",
       "<style scoped>\n",
       "    .dataframe tbody tr th:only-of-type {\n",
       "        vertical-align: middle;\n",
       "    }\n",
       "\n",
       "    .dataframe tbody tr th {\n",
       "        vertical-align: top;\n",
       "    }\n",
       "\n",
       "    .dataframe thead th {\n",
       "        text-align: right;\n",
       "    }\n",
       "</style>\n",
       "<table border=\"1\" class=\"dataframe\">\n",
       "  <thead>\n",
       "    <tr style=\"text-align: right;\">\n",
       "      <th></th>\n",
       "      <th>Date</th>\n",
       "      <th>TrueCloudcover</th>\n",
       "      <th>PredictedCloudcover</th>\n",
       "    </tr>\n",
       "  </thead>\n",
       "  <tbody>\n",
       "    <tr>\n",
       "      <td>0</td>\n",
       "      <td>2020-01-01</td>\n",
       "      <td>0</td>\n",
       "      <td>60.819454</td>\n",
       "    </tr>\n",
       "    <tr>\n",
       "      <td>1</td>\n",
       "      <td>2020-01-02</td>\n",
       "      <td>0</td>\n",
       "      <td>36.838741</td>\n",
       "    </tr>\n",
       "    <tr>\n",
       "      <td>2</td>\n",
       "      <td>2020-01-03</td>\n",
       "      <td>0</td>\n",
       "      <td>29.560249</td>\n",
       "    </tr>\n",
       "    <tr>\n",
       "      <td>3</td>\n",
       "      <td>2020-01-04</td>\n",
       "      <td>0</td>\n",
       "      <td>25.365686</td>\n",
       "    </tr>\n",
       "    <tr>\n",
       "      <td>4</td>\n",
       "      <td>2020-01-05</td>\n",
       "      <td>0</td>\n",
       "      <td>22.907373</td>\n",
       "    </tr>\n",
       "    <tr>\n",
       "      <td>...</td>\n",
       "      <td>...</td>\n",
       "      <td>...</td>\n",
       "      <td>...</td>\n",
       "    </tr>\n",
       "    <tr>\n",
       "      <td>360</td>\n",
       "      <td>2020-12-26</td>\n",
       "      <td>0</td>\n",
       "      <td>53.125656</td>\n",
       "    </tr>\n",
       "    <tr>\n",
       "      <td>361</td>\n",
       "      <td>2020-12-27</td>\n",
       "      <td>0</td>\n",
       "      <td>39.034477</td>\n",
       "    </tr>\n",
       "    <tr>\n",
       "      <td>362</td>\n",
       "      <td>2020-12-28</td>\n",
       "      <td>0</td>\n",
       "      <td>45.234097</td>\n",
       "    </tr>\n",
       "    <tr>\n",
       "      <td>363</td>\n",
       "      <td>2020-12-29</td>\n",
       "      <td>0</td>\n",
       "      <td>21.364910</td>\n",
       "    </tr>\n",
       "    <tr>\n",
       "      <td>364</td>\n",
       "      <td>2020-12-30</td>\n",
       "      <td>0</td>\n",
       "      <td>33.408909</td>\n",
       "    </tr>\n",
       "  </tbody>\n",
       "</table>\n",
       "<p>365 rows × 3 columns</p>\n",
       "</div>"
      ],
      "text/plain": [
       "          Date  TrueCloudcover  PredictedCloudcover\n",
       "0   2020-01-01               0            60.819454\n",
       "1   2020-01-02               0            36.838741\n",
       "2   2020-01-03               0            29.560249\n",
       "3   2020-01-04               0            25.365686\n",
       "4   2020-01-05               0            22.907373\n",
       "..         ...             ...                  ...\n",
       "360 2020-12-26               0            53.125656\n",
       "361 2020-12-27               0            39.034477\n",
       "362 2020-12-28               0            45.234097\n",
       "363 2020-12-29               0            21.364910\n",
       "364 2020-12-30               0            33.408909\n",
       "\n",
       "[365 rows x 3 columns]"
      ]
     },
     "execution_count": 26,
     "metadata": {},
     "output_type": "execute_result"
    }
   ],
   "source": [
    "Machine_Df2"
   ]
  },
  {
   "cell_type": "code",
   "execution_count": 32,
   "metadata": {},
   "outputs": [],
   "source": [
    "#plt.figure(figsize=(25,15))\n",
    "#plt.plot(TestData.index, Predicted_Precip)\n",
    "#plt.show()"
   ]
  },
  {
   "cell_type": "code",
   "execution_count": 29,
   "metadata": {},
   "outputs": [],
   "source": [
    "Machine_Df2.to_csv(\"../input/Cloudcover.csv\")"
   ]
  },
  {
   "cell_type": "code",
   "execution_count": 30,
   "metadata": {},
   "outputs": [],
   "source": [
    "regressor.save('../input/Cloudcover_(2020)') "
   ]
  },
  {
   "cell_type": "code",
   "execution_count": 31,
   "metadata": {},
   "outputs": [],
   "source": [
    "regressor.save('../input/Cloudcover_(2020).h5') "
   ]
  },
  {
   "cell_type": "code",
   "execution_count": null,
   "metadata": {},
   "outputs": [],
   "source": []
  }
 ],
 "metadata": {
  "kernelspec": {
   "display_name": "Python 3",
   "language": "python",
   "name": "python3"
  },
  "language_info": {
   "codemirror_mode": {
    "name": "ipython",
    "version": 3
   },
   "file_extension": ".py",
   "mimetype": "text/x-python",
   "name": "python",
   "nbconvert_exporter": "python",
   "pygments_lexer": "ipython3",
   "version": "3.7.4"
  },
  "pycharm": {
   "stem_cell": {
    "cell_type": "raw",
    "metadata": {
     "collapsed": false
    },
    "source": []
   }
  }
 },
 "nbformat": 4,
 "nbformat_minor": 2
}
