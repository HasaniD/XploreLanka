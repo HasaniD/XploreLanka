{
  "nbformat": 4,
  "nbformat_minor": 0,
  "metadata": {
    "celltoolbar": "Raw Cell Format",
    "kernelspec": {
      "display_name": "Python [conda env:.conda-py3-tf2.0]",
      "language": "python",
      "name": "conda-env-.conda-py3-tf2.0-py"
    },
    "language_info": {
      "codemirror_mode": {
        "name": "ipython",
        "version": 3
      },
      "file_extension": ".py",
      "mimetype": "text/x-python",
      "name": "python",
      "nbconvert_exporter": "python",
      "pygments_lexer": "ipython3",
      "version": "3.7.7"
    },
    "colab": {
      "name": "tfTestLast.ipynb",
      "provenance": [],
      "toc_visible": true,
      "include_colab_link": true
    }
  },
  "cells": [
    {
      "cell_type": "markdown",
      "metadata": {
        "id": "view-in-github",
        "colab_type": "text"
      },
      "source": [
        "<a href=\"https://colab.research.google.com/github/crislivera/XploreLanka/blob/DataScience/tfTestLast.ipynb\" target=\"_parent\"><img src=\"https://colab.research.google.com/assets/colab-badge.svg\" alt=\"Open In Colab\"/></a>"
      ]
    },
    {
      "cell_type": "code",
      "metadata": {
        "id": "kloPzin2RMjl",
        "colab_type": "code",
        "outputId": "ed9180c7-a321-4474-a9a2-bad5420fb6d1",
        "colab": {
          "base_uri": "https://localhost:8080/",
          "height": 34
        }
      },
      "source": [
        "import tensorflow as tf\n",
        "\n",
        "import matplotlib as mpl\n",
        "import matplotlib.pyplot as plt\n",
        "import numpy as np\n",
        "import os\n",
        "import pandas as pd\n",
        "from sklearn.preprocessing import MinMaxScaler\n",
        "from keras.preprocessing.sequence import TimeseriesGenerator"
      ],
      "execution_count": 0,
      "outputs": [
        {
          "output_type": "stream",
          "text": [
            "Using TensorFlow backend.\n"
          ],
          "name": "stderr"
        }
      ]
    },
    {
      "cell_type": "code",
      "metadata": {
        "id": "XE1SbXBcRMjp",
        "colab_type": "code",
        "outputId": "41b99309-cf29-489b-ee8b-926221dcacb8",
        "colab": {
          "base_uri": "https://localhost:8080/",
          "height": 419
        }
      },
      "source": [
        "df = pd.read_csv('Anur.csv', date_parser =True)\n",
        "df = df[['Date','Temp C']]\n",
        "df"
      ],
      "execution_count": 0,
      "outputs": [
        {
          "output_type": "execute_result",
          "data": {
            "text/html": [
              "<div>\n",
              "<style scoped>\n",
              "    .dataframe tbody tr th:only-of-type {\n",
              "        vertical-align: middle;\n",
              "    }\n",
              "\n",
              "    .dataframe tbody tr th {\n",
              "        vertical-align: top;\n",
              "    }\n",
              "\n",
              "    .dataframe thead th {\n",
              "        text-align: right;\n",
              "    }\n",
              "</style>\n",
              "<table border=\"1\" class=\"dataframe\">\n",
              "  <thead>\n",
              "    <tr style=\"text-align: right;\">\n",
              "      <th></th>\n",
              "      <th>Date</th>\n",
              "      <th>Temp C</th>\n",
              "    </tr>\n",
              "  </thead>\n",
              "  <tbody>\n",
              "    <tr>\n",
              "      <th>0</th>\n",
              "      <td>1/1/2009</td>\n",
              "      <td>30</td>\n",
              "    </tr>\n",
              "    <tr>\n",
              "      <th>1</th>\n",
              "      <td>2/1/2009</td>\n",
              "      <td>31</td>\n",
              "    </tr>\n",
              "    <tr>\n",
              "      <th>2</th>\n",
              "      <td>3/1/2009</td>\n",
              "      <td>31</td>\n",
              "    </tr>\n",
              "    <tr>\n",
              "      <th>3</th>\n",
              "      <td>4/1/2009</td>\n",
              "      <td>29</td>\n",
              "    </tr>\n",
              "    <tr>\n",
              "      <th>4</th>\n",
              "      <td>5/1/2009</td>\n",
              "      <td>31</td>\n",
              "    </tr>\n",
              "    <tr>\n",
              "      <th>...</th>\n",
              "      <td>...</td>\n",
              "      <td>...</td>\n",
              "    </tr>\n",
              "    <tr>\n",
              "      <th>4012</th>\n",
              "      <td>27/12/2019</td>\n",
              "      <td>29</td>\n",
              "    </tr>\n",
              "    <tr>\n",
              "      <th>4013</th>\n",
              "      <td>28/12/2019</td>\n",
              "      <td>28</td>\n",
              "    </tr>\n",
              "    <tr>\n",
              "      <th>4014</th>\n",
              "      <td>29/12/2019</td>\n",
              "      <td>29</td>\n",
              "    </tr>\n",
              "    <tr>\n",
              "      <th>4015</th>\n",
              "      <td>30/12/2019</td>\n",
              "      <td>30</td>\n",
              "    </tr>\n",
              "    <tr>\n",
              "      <th>4016</th>\n",
              "      <td>31/12/2019</td>\n",
              "      <td>29</td>\n",
              "    </tr>\n",
              "  </tbody>\n",
              "</table>\n",
              "<p>4017 rows × 2 columns</p>\n",
              "</div>"
            ],
            "text/plain": [
              "             Date  Temp C\n",
              "0       1/1/2009       30\n",
              "1       2/1/2009       31\n",
              "2       3/1/2009       31\n",
              "3       4/1/2009       29\n",
              "4       5/1/2009       31\n",
              "...           ...     ...\n",
              "4012  27/12/2019       29\n",
              "4013  28/12/2019       28\n",
              "4014  29/12/2019       29\n",
              "4015  30/12/2019       30\n",
              "4016  31/12/2019       29\n",
              "\n",
              "[4017 rows x 2 columns]"
            ]
          },
          "metadata": {
            "tags": []
          },
          "execution_count": 4
        }
      ]
    },
    {
      "cell_type": "code",
      "metadata": {
        "scrolled": true,
        "id": "CGBx55xARMjw",
        "colab_type": "code",
        "outputId": "6894839d-7117-4f12-d1a8-0e4fe5a0c3bb",
        "colab": {
          "base_uri": "https://localhost:8080/",
          "height": 450
        }
      },
      "source": [
        "trainingData = df[:-365].copy()\n",
        "trainingData = trainingData.set_index('Date')\n",
        "trainingData"
      ],
      "execution_count": 0,
      "outputs": [
        {
          "output_type": "execute_result",
          "data": {
            "text/html": [
              "<div>\n",
              "<style scoped>\n",
              "    .dataframe tbody tr th:only-of-type {\n",
              "        vertical-align: middle;\n",
              "    }\n",
              "\n",
              "    .dataframe tbody tr th {\n",
              "        vertical-align: top;\n",
              "    }\n",
              "\n",
              "    .dataframe thead th {\n",
              "        text-align: right;\n",
              "    }\n",
              "</style>\n",
              "<table border=\"1\" class=\"dataframe\">\n",
              "  <thead>\n",
              "    <tr style=\"text-align: right;\">\n",
              "      <th></th>\n",
              "      <th>Temp C</th>\n",
              "    </tr>\n",
              "    <tr>\n",
              "      <th>Date</th>\n",
              "      <th></th>\n",
              "    </tr>\n",
              "  </thead>\n",
              "  <tbody>\n",
              "    <tr>\n",
              "      <th>1/1/2009</th>\n",
              "      <td>30</td>\n",
              "    </tr>\n",
              "    <tr>\n",
              "      <th>2/1/2009</th>\n",
              "      <td>31</td>\n",
              "    </tr>\n",
              "    <tr>\n",
              "      <th>3/1/2009</th>\n",
              "      <td>31</td>\n",
              "    </tr>\n",
              "    <tr>\n",
              "      <th>4/1/2009</th>\n",
              "      <td>29</td>\n",
              "    </tr>\n",
              "    <tr>\n",
              "      <th>5/1/2009</th>\n",
              "      <td>31</td>\n",
              "    </tr>\n",
              "    <tr>\n",
              "      <th>...</th>\n",
              "      <td>...</td>\n",
              "    </tr>\n",
              "    <tr>\n",
              "      <th>27/12/2018</th>\n",
              "      <td>31</td>\n",
              "    </tr>\n",
              "    <tr>\n",
              "      <th>28/12/2018</th>\n",
              "      <td>30</td>\n",
              "    </tr>\n",
              "    <tr>\n",
              "      <th>29/12/2018</th>\n",
              "      <td>29</td>\n",
              "    </tr>\n",
              "    <tr>\n",
              "      <th>30/12/2018</th>\n",
              "      <td>29</td>\n",
              "    </tr>\n",
              "    <tr>\n",
              "      <th>31/12/2018</th>\n",
              "      <td>27</td>\n",
              "    </tr>\n",
              "  </tbody>\n",
              "</table>\n",
              "<p>3652 rows × 1 columns</p>\n",
              "</div>"
            ],
            "text/plain": [
              "             Temp C\n",
              "Date               \n",
              "1/1/2009         30\n",
              "2/1/2009         31\n",
              "3/1/2009         31\n",
              "4/1/2009         29\n",
              "5/1/2009         31\n",
              "...             ...\n",
              "27/12/2018       31\n",
              "28/12/2018       30\n",
              "29/12/2018       29\n",
              "30/12/2018       29\n",
              "31/12/2018       27\n",
              "\n",
              "[3652 rows x 1 columns]"
            ]
          },
          "metadata": {
            "tags": []
          },
          "execution_count": 5
        }
      ]
    },
    {
      "cell_type": "code",
      "metadata": {
        "id": "e4-NRQGW2UOn",
        "colab_type": "code",
        "colab": {}
      },
      "source": [
        "#trainingData = np.asarray(trainingData)"
      ],
      "execution_count": 0,
      "outputs": []
    },
    {
      "cell_type": "code",
      "metadata": {
        "id": "zC2EXIWlRMjy",
        "colab_type": "code",
        "outputId": "95072636-9dd3-4d0a-cdd4-66252ce4d688",
        "colab": {
          "base_uri": "https://localhost:8080/",
          "height": 450
        }
      },
      "source": [
        "testingData = df[-365:].copy()\n",
        "testingData = testingData.set_index('Date')\n",
        "testingData\n"
      ],
      "execution_count": 0,
      "outputs": [
        {
          "output_type": "execute_result",
          "data": {
            "text/html": [
              "<div>\n",
              "<style scoped>\n",
              "    .dataframe tbody tr th:only-of-type {\n",
              "        vertical-align: middle;\n",
              "    }\n",
              "\n",
              "    .dataframe tbody tr th {\n",
              "        vertical-align: top;\n",
              "    }\n",
              "\n",
              "    .dataframe thead th {\n",
              "        text-align: right;\n",
              "    }\n",
              "</style>\n",
              "<table border=\"1\" class=\"dataframe\">\n",
              "  <thead>\n",
              "    <tr style=\"text-align: right;\">\n",
              "      <th></th>\n",
              "      <th>Temp C</th>\n",
              "    </tr>\n",
              "    <tr>\n",
              "      <th>Date</th>\n",
              "      <th></th>\n",
              "    </tr>\n",
              "  </thead>\n",
              "  <tbody>\n",
              "    <tr>\n",
              "      <th>1/1/2019</th>\n",
              "      <td>27</td>\n",
              "    </tr>\n",
              "    <tr>\n",
              "      <th>2/1/2019</th>\n",
              "      <td>27</td>\n",
              "    </tr>\n",
              "    <tr>\n",
              "      <th>3/1/2019</th>\n",
              "      <td>29</td>\n",
              "    </tr>\n",
              "    <tr>\n",
              "      <th>4/1/2019</th>\n",
              "      <td>29</td>\n",
              "    </tr>\n",
              "    <tr>\n",
              "      <th>5/1/2019</th>\n",
              "      <td>29</td>\n",
              "    </tr>\n",
              "    <tr>\n",
              "      <th>...</th>\n",
              "      <td>...</td>\n",
              "    </tr>\n",
              "    <tr>\n",
              "      <th>27/12/2019</th>\n",
              "      <td>29</td>\n",
              "    </tr>\n",
              "    <tr>\n",
              "      <th>28/12/2019</th>\n",
              "      <td>28</td>\n",
              "    </tr>\n",
              "    <tr>\n",
              "      <th>29/12/2019</th>\n",
              "      <td>29</td>\n",
              "    </tr>\n",
              "    <tr>\n",
              "      <th>30/12/2019</th>\n",
              "      <td>30</td>\n",
              "    </tr>\n",
              "    <tr>\n",
              "      <th>31/12/2019</th>\n",
              "      <td>29</td>\n",
              "    </tr>\n",
              "  </tbody>\n",
              "</table>\n",
              "<p>365 rows × 1 columns</p>\n",
              "</div>"
            ],
            "text/plain": [
              "             Temp C\n",
              "Date               \n",
              "1/1/2019         27\n",
              "2/1/2019         27\n",
              "3/1/2019         29\n",
              "4/1/2019         29\n",
              "5/1/2019         29\n",
              "...             ...\n",
              "27/12/2019       29\n",
              "28/12/2019       28\n",
              "29/12/2019       29\n",
              "30/12/2019       30\n",
              "31/12/2019       29\n",
              "\n",
              "[365 rows x 1 columns]"
            ]
          },
          "metadata": {
            "tags": []
          },
          "execution_count": 6
        }
      ]
    },
    {
      "cell_type": "code",
      "metadata": {
        "id": "iGEy8KVR2LGi",
        "colab_type": "code",
        "colab": {}
      },
      "source": [
        "#testingData = np.asarray(testingData)"
      ],
      "execution_count": 0,
      "outputs": []
    },
    {
      "cell_type": "code",
      "metadata": {
        "id": "SgIVyashRMj3",
        "colab_type": "code",
        "colab": {}
      },
      "source": [
        "#scaler = MinMaxScaler()\n",
        "#actualTrainingData = scaler.fit_transform(actualTrainingData)\n",
        "#actualTrainingData\n",
        "\n",
        "scaler=MinMaxScaler()\n",
        "scaler.fit(trainingData)\n",
        "trainingData=scaler.transform(trainingData)\n",
        "testingData=scaler.transform(testingData)"
      ],
      "execution_count": 0,
      "outputs": []
    },
    {
      "cell_type": "code",
      "metadata": {
        "id": "nOJR2jbfRMj5",
        "colab_type": "code",
        "colab": {}
      },
      "source": [
        "n_input=100\n",
        "n_features=1\n",
        "\n",
        "generator=TimeseriesGenerator(trainingData, trainingData, length=n_input, batch_size=32)"
      ],
      "execution_count": 0,
      "outputs": []
    },
    {
      "cell_type": "code",
      "metadata": {
        "id": "qclXa5r2RMj7",
        "colab_type": "code",
        "colab": {}
      },
      "source": [
        "x_train = []\n",
        "y_train = []"
      ],
      "execution_count": 0,
      "outputs": []
    },
    {
      "cell_type": "code",
      "metadata": {
        "id": "i26ocZKwRMj9",
        "colab_type": "code",
        "colab": {}
      },
      "source": [
        "for i in range(60, trainingData.shape[0]):\n",
        "    x_train.append(trainingData[i-60:i])\n",
        "    y_train.append(trainingData[i, 0])"
      ],
      "execution_count": 0,
      "outputs": []
    },
    {
      "cell_type": "code",
      "metadata": {
        "id": "HYTJeeHSRMj_",
        "colab_type": "code",
        "outputId": "375d824f-dc01-42b5-b8e9-989288fc4ca8",
        "colab": {
          "base_uri": "https://localhost:8080/",
          "height": 34
        }
      },
      "source": [
        "x_train , y_train =np.array(x_train), np.array(y_train)\n",
        "x_train.shape, y_train.shape"
      ],
      "execution_count": 0,
      "outputs": [
        {
          "output_type": "execute_result",
          "data": {
            "text/plain": [
              "((3592, 60, 1), (3592,))"
            ]
          },
          "metadata": {
            "tags": []
          },
          "execution_count": 11
        }
      ]
    },
    {
      "cell_type": "markdown",
      "metadata": {
        "id": "g0WbnAAvRMkC",
        "colab_type": "text"
      },
      "source": [
        "### LSTM"
      ]
    },
    {
      "cell_type": "code",
      "metadata": {
        "id": "nwYQL98URMkC",
        "colab_type": "code",
        "colab": {}
      },
      "source": [
        "from tensorflow.keras import Sequential\n",
        "from tensorflow.keras.layers import Dense, LSTM, Dropout\n"
      ],
      "execution_count": 0,
      "outputs": []
    },
    {
      "cell_type": "code",
      "metadata": {
        "id": "T9bprHb5RMkE",
        "colab_type": "code",
        "colab": {}
      },
      "source": [
        "regressior = Sequential()\n",
        "regressior.add(LSTM(units = 60, activation = 'relu', return_sequences = True, input_shape = (x_train.shape[1], 1)))\n",
        "regressior.add(Dropout(0.2))\n",
        "\n",
        "regressior.add(LSTM(units=60, activation='relu',return_sequences= True))\n",
        "regressior.add(Dropout(0.2))\n",
        "\n",
        "regressior.add(LSTM(units=80, activation='relu',return_sequences= True))\n",
        "regressior.add(Dropout(0.2))\n",
        "\n",
        "regressior.add(LSTM(units=120, activation='relu'))\n",
        "regressior.add(Dropout(0.2))\n",
        "\n",
        "regressior.add(Dense(units=1))"
      ],
      "execution_count": 0,
      "outputs": []
    },
    {
      "cell_type": "code",
      "metadata": {
        "id": "ze8JJw1iRMkG",
        "colab_type": "code",
        "outputId": "1b56be19-eb11-4eca-fa4b-48442f0f142f",
        "colab": {
          "base_uri": "https://localhost:8080/",
          "height": 459
        }
      },
      "source": [
        "regressior.summary()"
      ],
      "execution_count": 0,
      "outputs": [
        {
          "output_type": "stream",
          "text": [
            "Model: \"sequential_1\"\n",
            "_________________________________________________________________\n",
            "Layer (type)                 Output Shape              Param #   \n",
            "=================================================================\n",
            "lstm_4 (LSTM)                (None, 60, 60)            14880     \n",
            "_________________________________________________________________\n",
            "dropout_4 (Dropout)          (None, 60, 60)            0         \n",
            "_________________________________________________________________\n",
            "lstm_5 (LSTM)                (None, 60, 60)            29040     \n",
            "_________________________________________________________________\n",
            "dropout_5 (Dropout)          (None, 60, 60)            0         \n",
            "_________________________________________________________________\n",
            "lstm_6 (LSTM)                (None, 60, 80)            45120     \n",
            "_________________________________________________________________\n",
            "dropout_6 (Dropout)          (None, 60, 80)            0         \n",
            "_________________________________________________________________\n",
            "lstm_7 (LSTM)                (None, 120)               96480     \n",
            "_________________________________________________________________\n",
            "dropout_7 (Dropout)          (None, 120)               0         \n",
            "_________________________________________________________________\n",
            "dense_1 (Dense)              (None, 1)                 121       \n",
            "=================================================================\n",
            "Total params: 185,641\n",
            "Trainable params: 185,641\n",
            "Non-trainable params: 0\n",
            "_________________________________________________________________\n"
          ],
          "name": "stdout"
        }
      ]
    },
    {
      "cell_type": "code",
      "metadata": {
        "id": "BQ1Sz5OTRMkI",
        "colab_type": "code",
        "colab": {}
      },
      "source": [
        "regressior.compile(optimizer='adam', loss='mean_squared_error')"
      ],
      "execution_count": 0,
      "outputs": []
    },
    {
      "cell_type": "code",
      "metadata": {
        "id": "vXmJYSKfYrPh",
        "colab_type": "code",
        "outputId": "efceae3b-eb96-4831-865b-2f303532aa36",
        "colab": {
          "base_uri": "https://localhost:8080/",
          "height": 1000
        }
      },
      "source": [
        "regressior.fit(x_train,y_train, epochs=180, batch_size=32)\n"
      ],
      "execution_count": 0,
      "outputs": [
        {
          "output_type": "stream",
          "text": [
            "Epoch 1/180\n",
            "113/113 [==============================] - 17s 148ms/step - loss: 0.0379\n",
            "Epoch 2/180\n",
            "113/113 [==============================] - 17s 154ms/step - loss: 0.0150\n",
            "Epoch 3/180\n",
            "113/113 [==============================] - 17s 154ms/step - loss: 0.0145\n",
            "Epoch 4/180\n",
            "113/113 [==============================] - 17s 154ms/step - loss: 0.0144\n",
            "Epoch 5/180\n",
            "113/113 [==============================] - 17s 155ms/step - loss: 0.0137\n",
            "Epoch 6/180\n",
            "113/113 [==============================] - 18s 156ms/step - loss: 0.0136\n",
            "Epoch 7/180\n",
            "113/113 [==============================] - 18s 158ms/step - loss: 0.0131\n",
            "Epoch 8/180\n",
            "113/113 [==============================] - 18s 156ms/step - loss: 0.0126\n",
            "Epoch 9/180\n",
            "113/113 [==============================] - 18s 156ms/step - loss: 0.0124\n",
            "Epoch 10/180\n",
            "113/113 [==============================] - 18s 160ms/step - loss: 0.0122\n",
            "Epoch 11/180\n",
            "113/113 [==============================] - 18s 158ms/step - loss: 0.0122\n",
            "Epoch 12/180\n",
            "113/113 [==============================] - 18s 156ms/step - loss: 0.0118\n",
            "Epoch 13/180\n",
            "113/113 [==============================] - 17s 154ms/step - loss: 0.0114\n",
            "Epoch 14/180\n",
            "113/113 [==============================] - 18s 156ms/step - loss: 0.0110\n",
            "Epoch 15/180\n",
            "113/113 [==============================] - 18s 156ms/step - loss: 0.0107\n",
            "Epoch 16/180\n",
            "113/113 [==============================] - 18s 155ms/step - loss: 0.0104\n",
            "Epoch 17/180\n",
            "113/113 [==============================] - 18s 159ms/step - loss: 0.0104\n",
            "Epoch 18/180\n",
            "113/113 [==============================] - 18s 156ms/step - loss: 0.0106\n",
            "Epoch 19/180\n",
            "113/113 [==============================] - 18s 156ms/step - loss: 0.0106\n",
            "Epoch 20/180\n",
            "113/113 [==============================] - 18s 156ms/step - loss: 0.0100\n",
            "Epoch 21/180\n",
            "113/113 [==============================] - 18s 162ms/step - loss: 0.0099\n",
            "Epoch 22/180\n",
            "113/113 [==============================] - 18s 160ms/step - loss: 0.0098\n",
            "Epoch 23/180\n",
            "113/113 [==============================] - 18s 157ms/step - loss: 0.0095\n",
            "Epoch 24/180\n",
            "113/113 [==============================] - 18s 160ms/step - loss: 0.0095\n",
            "Epoch 25/180\n",
            "113/113 [==============================] - 18s 158ms/step - loss: 0.0094\n",
            "Epoch 26/180\n",
            "113/113 [==============================] - 18s 155ms/step - loss: 0.0096\n",
            "Epoch 27/180\n",
            "113/113 [==============================] - 18s 157ms/step - loss: 0.0092\n",
            "Epoch 28/180\n",
            "113/113 [==============================] - 18s 158ms/step - loss: 0.0091\n",
            "Epoch 29/180\n",
            "113/113 [==============================] - 18s 158ms/step - loss: 0.0092\n",
            "Epoch 30/180\n",
            "113/113 [==============================] - 18s 156ms/step - loss: 0.0090\n",
            "Epoch 31/180\n",
            "113/113 [==============================] - 18s 158ms/step - loss: 0.0090\n",
            "Epoch 32/180\n",
            "113/113 [==============================] - 18s 158ms/step - loss: 0.0091\n",
            "Epoch 33/180\n",
            "113/113 [==============================] - 18s 158ms/step - loss: 0.0088\n",
            "Epoch 34/180\n",
            "113/113 [==============================] - 18s 161ms/step - loss: 0.0086\n",
            "Epoch 35/180\n",
            "113/113 [==============================] - 18s 158ms/step - loss: 0.0088\n",
            "Epoch 36/180\n",
            "113/113 [==============================] - 18s 158ms/step - loss: 0.0086\n",
            "Epoch 37/180\n",
            "113/113 [==============================] - 18s 157ms/step - loss: 0.0087\n",
            "Epoch 38/180\n",
            "113/113 [==============================] - 18s 158ms/step - loss: 0.0087\n",
            "Epoch 39/180\n",
            "113/113 [==============================] - 18s 158ms/step - loss: 0.0084\n",
            "Epoch 40/180\n",
            "113/113 [==============================] - 18s 157ms/step - loss: 0.0087\n",
            "Epoch 41/180\n",
            "113/113 [==============================] - 18s 160ms/step - loss: 0.0086\n",
            "Epoch 42/180\n",
            "113/113 [==============================] - 18s 159ms/step - loss: 0.0084\n",
            "Epoch 43/180\n",
            "113/113 [==============================] - 18s 158ms/step - loss: 0.0082\n",
            "Epoch 44/180\n",
            "113/113 [==============================] - 18s 160ms/step - loss: 0.0085\n",
            "Epoch 45/180\n",
            "113/113 [==============================] - 18s 160ms/step - loss: 0.0084\n",
            "Epoch 46/180\n",
            "113/113 [==============================] - 18s 160ms/step - loss: 0.0083\n",
            "Epoch 47/180\n",
            "113/113 [==============================] - 18s 162ms/step - loss: 0.0082\n",
            "Epoch 48/180\n",
            "113/113 [==============================] - 18s 159ms/step - loss: 0.0082\n",
            "Epoch 49/180\n",
            "113/113 [==============================] - 18s 157ms/step - loss: 0.0081\n",
            "Epoch 50/180\n",
            "113/113 [==============================] - 18s 160ms/step - loss: 0.0082\n",
            "Epoch 51/180\n",
            "113/113 [==============================] - 19s 165ms/step - loss: 0.0083\n",
            "Epoch 52/180\n",
            "113/113 [==============================] - 18s 159ms/step - loss: 0.0081\n",
            "Epoch 53/180\n",
            "113/113 [==============================] - 18s 158ms/step - loss: 0.0082\n",
            "Epoch 54/180\n",
            "113/113 [==============================] - 18s 158ms/step - loss: 0.0079\n",
            "Epoch 55/180\n",
            "113/113 [==============================] - 18s 157ms/step - loss: 0.0082\n",
            "Epoch 56/180\n",
            "113/113 [==============================] - 18s 161ms/step - loss: 0.0081\n",
            "Epoch 57/180\n",
            "113/113 [==============================] - 18s 158ms/step - loss: 0.0082\n",
            "Epoch 58/180\n",
            "113/113 [==============================] - 18s 158ms/step - loss: 0.0081\n",
            "Epoch 59/180\n",
            "113/113 [==============================] - 18s 160ms/step - loss: 0.0080\n",
            "Epoch 60/180\n",
            "113/113 [==============================] - 18s 158ms/step - loss: 0.0080\n",
            "Epoch 61/180\n",
            "113/113 [==============================] - 18s 157ms/step - loss: 0.0080\n",
            "Epoch 62/180\n",
            "113/113 [==============================] - 18s 159ms/step - loss: 0.0079\n",
            "Epoch 63/180\n",
            "113/113 [==============================] - 18s 157ms/step - loss: 0.0079\n",
            "Epoch 64/180\n",
            "113/113 [==============================] - 18s 160ms/step - loss: 0.0079\n",
            "Epoch 65/180\n",
            "113/113 [==============================] - 18s 158ms/step - loss: 0.0081\n",
            "Epoch 66/180\n",
            "113/113 [==============================] - 18s 157ms/step - loss: 0.0083\n",
            "Epoch 67/180\n",
            "113/113 [==============================] - 18s 157ms/step - loss: 0.0079\n",
            "Epoch 68/180\n",
            "113/113 [==============================] - 18s 160ms/step - loss: 0.0080\n",
            "Epoch 69/180\n",
            "113/113 [==============================] - 18s 158ms/step - loss: 0.0080\n",
            "Epoch 70/180\n",
            "113/113 [==============================] - 18s 157ms/step - loss: 0.0079\n",
            "Epoch 71/180\n",
            "113/113 [==============================] - 18s 158ms/step - loss: 0.0081\n",
            "Epoch 72/180\n",
            "113/113 [==============================] - 18s 159ms/step - loss: 0.0080\n",
            "Epoch 73/180\n",
            "113/113 [==============================] - 18s 158ms/step - loss: 0.0079\n",
            "Epoch 74/180\n",
            "113/113 [==============================] - 18s 158ms/step - loss: 0.0079\n",
            "Epoch 75/180\n",
            "113/113 [==============================] - 18s 158ms/step - loss: 0.0078\n",
            "Epoch 76/180\n",
            "113/113 [==============================] - 18s 161ms/step - loss: 0.0080\n",
            "Epoch 77/180\n",
            "113/113 [==============================] - 18s 159ms/step - loss: 0.0078\n",
            "Epoch 78/180\n",
            "113/113 [==============================] - 18s 158ms/step - loss: 0.0077\n",
            "Epoch 79/180\n",
            "113/113 [==============================] - 18s 158ms/step - loss: 0.0079\n",
            "Epoch 80/180\n",
            "113/113 [==============================] - 18s 158ms/step - loss: 0.0078\n",
            "Epoch 81/180\n",
            "113/113 [==============================] - 18s 157ms/step - loss: 0.0080\n",
            "Epoch 82/180\n",
            "113/113 [==============================] - 18s 157ms/step - loss: 0.0079\n",
            "Epoch 83/180\n",
            "113/113 [==============================] - 18s 158ms/step - loss: 0.0078\n",
            "Epoch 84/180\n",
            "113/113 [==============================] - 18s 160ms/step - loss: 0.0078\n",
            "Epoch 85/180\n",
            "113/113 [==============================] - 18s 159ms/step - loss: 0.0077\n",
            "Epoch 86/180\n",
            "113/113 [==============================] - 18s 157ms/step - loss: 0.0077\n",
            "Epoch 87/180\n",
            "113/113 [==============================] - 18s 157ms/step - loss: 0.0078\n",
            "Epoch 88/180\n",
            "113/113 [==============================] - 18s 160ms/step - loss: 0.0078\n",
            "Epoch 89/180\n",
            "113/113 [==============================] - 18s 159ms/step - loss: 0.0078\n",
            "Epoch 90/180\n",
            "113/113 [==============================] - 18s 159ms/step - loss: 0.0076\n",
            "Epoch 91/180\n",
            "113/113 [==============================] - 18s 158ms/step - loss: 0.0078\n",
            "Epoch 92/180\n",
            "113/113 [==============================] - 18s 159ms/step - loss: 0.0077\n",
            "Epoch 93/180\n",
            "113/113 [==============================] - 18s 162ms/step - loss: 0.0077\n",
            "Epoch 94/180\n",
            "113/113 [==============================] - 18s 158ms/step - loss: 0.0077\n",
            "Epoch 95/180\n",
            "113/113 [==============================] - 18s 160ms/step - loss: 0.0076\n",
            "Epoch 96/180\n",
            "113/113 [==============================] - 18s 158ms/step - loss: 0.0076\n",
            "Epoch 97/180\n",
            "113/113 [==============================] - 18s 158ms/step - loss: 0.0075\n",
            "Epoch 98/180\n",
            "113/113 [==============================] - 18s 158ms/step - loss: 0.0076\n",
            "Epoch 99/180\n",
            "113/113 [==============================] - 18s 158ms/step - loss: 0.0076\n",
            "Epoch 100/180\n",
            "113/113 [==============================] - 18s 159ms/step - loss: 0.0076\n",
            "Epoch 101/180\n",
            "113/113 [==============================] - 18s 160ms/step - loss: 0.0075\n",
            "Epoch 102/180\n",
            "113/113 [==============================] - 18s 163ms/step - loss: 0.0075\n",
            "Epoch 103/180\n",
            "113/113 [==============================] - 18s 160ms/step - loss: 0.0077\n",
            "Epoch 104/180\n",
            "113/113 [==============================] - 18s 160ms/step - loss: 0.0075\n",
            "Epoch 105/180\n",
            "113/113 [==============================] - 18s 161ms/step - loss: 0.0075\n",
            "Epoch 106/180\n",
            "113/113 [==============================] - 18s 162ms/step - loss: 0.0076\n",
            "Epoch 107/180\n",
            "113/113 [==============================] - 18s 162ms/step - loss: 0.0076\n",
            "Epoch 108/180\n",
            "113/113 [==============================] - 18s 162ms/step - loss: 0.0076\n",
            "Epoch 109/180\n",
            "113/113 [==============================] - 18s 161ms/step - loss: 0.0076\n",
            "Epoch 110/180\n",
            "113/113 [==============================] - 19s 164ms/step - loss: 0.0073\n",
            "Epoch 111/180\n",
            "113/113 [==============================] - 18s 161ms/step - loss: 0.0073\n",
            "Epoch 112/180\n",
            "113/113 [==============================] - 18s 160ms/step - loss: 0.0074\n",
            "Epoch 113/180\n",
            "113/113 [==============================] - 18s 160ms/step - loss: 0.0075\n",
            "Epoch 114/180\n",
            "113/113 [==============================] - 18s 163ms/step - loss: 0.0076\n",
            "Epoch 115/180\n",
            "113/113 [==============================] - 18s 161ms/step - loss: 0.0073\n",
            "Epoch 116/180\n",
            "113/113 [==============================] - 18s 159ms/step - loss: 0.0075\n",
            "Epoch 117/180\n",
            "113/113 [==============================] - 18s 161ms/step - loss: 0.0074\n",
            "Epoch 118/180\n",
            "113/113 [==============================] - 18s 157ms/step - loss: 0.0073\n",
            "Epoch 119/180\n",
            "113/113 [==============================] - 18s 159ms/step - loss: 0.0074\n",
            "Epoch 120/180\n",
            "113/113 [==============================] - 18s 159ms/step - loss: 0.0072\n",
            "Epoch 121/180\n",
            "113/113 [==============================] - 18s 158ms/step - loss: 0.0074\n",
            "Epoch 122/180\n",
            "113/113 [==============================] - 18s 158ms/step - loss: 0.0074\n",
            "Epoch 123/180\n",
            "113/113 [==============================] - 18s 158ms/step - loss: 0.0073\n",
            "Epoch 124/180\n",
            "113/113 [==============================] - 18s 160ms/step - loss: 0.0073\n",
            "Epoch 125/180\n",
            "113/113 [==============================] - 18s 159ms/step - loss: 0.0073\n",
            "Epoch 126/180\n",
            "113/113 [==============================] - 18s 158ms/step - loss: 0.0073\n",
            "Epoch 127/180\n",
            "113/113 [==============================] - 18s 161ms/step - loss: 0.0073\n",
            "Epoch 128/180\n",
            "113/113 [==============================] - 18s 159ms/step - loss: 0.0072\n",
            "Epoch 129/180\n",
            "113/113 [==============================] - 18s 158ms/step - loss: 0.0074\n",
            "Epoch 130/180\n",
            "113/113 [==============================] - 18s 162ms/step - loss: 0.0074\n",
            "Epoch 131/180\n",
            "113/113 [==============================] - 18s 159ms/step - loss: 0.0073\n",
            "Epoch 132/180\n",
            "113/113 [==============================] - 18s 160ms/step - loss: 0.0074\n",
            "Epoch 133/180\n",
            "113/113 [==============================] - 18s 160ms/step - loss: 0.0072\n",
            "Epoch 134/180\n",
            "113/113 [==============================] - 18s 160ms/step - loss: 0.0072\n",
            "Epoch 135/180\n",
            "113/113 [==============================] - 18s 161ms/step - loss: 0.0073\n",
            "Epoch 136/180\n",
            "113/113 [==============================] - 18s 161ms/step - loss: 0.0073\n",
            "Epoch 137/180\n",
            "113/113 [==============================] - 18s 158ms/step - loss: 0.0073\n",
            "Epoch 138/180\n",
            "113/113 [==============================] - 18s 157ms/step - loss: 0.0072\n",
            "Epoch 139/180\n",
            "113/113 [==============================] - 18s 160ms/step - loss: 0.0072\n",
            "Epoch 140/180\n",
            "113/113 [==============================] - 18s 162ms/step - loss: 0.0072\n",
            "Epoch 141/180\n",
            "113/113 [==============================] - 18s 160ms/step - loss: 0.0071\n",
            "Epoch 142/180\n",
            "113/113 [==============================] - 18s 160ms/step - loss: 0.0072\n",
            "Epoch 143/180\n",
            "113/113 [==============================] - 18s 160ms/step - loss: 0.0071\n",
            "Epoch 144/180\n",
            "113/113 [==============================] - 18s 160ms/step - loss: 0.0072\n",
            "Epoch 145/180\n",
            "113/113 [==============================] - 18s 159ms/step - loss: 0.0071\n",
            "Epoch 146/180\n",
            "113/113 [==============================] - 18s 160ms/step - loss: 0.0072\n",
            "Epoch 147/180\n",
            "113/113 [==============================] - 18s 160ms/step - loss: 0.0073\n",
            "Epoch 148/180\n",
            "113/113 [==============================] - 18s 162ms/step - loss: 0.0071\n",
            "Epoch 149/180\n",
            "113/113 [==============================] - 18s 161ms/step - loss: 0.0071\n",
            "Epoch 150/180\n",
            "113/113 [==============================] - 18s 162ms/step - loss: 0.0071\n",
            "Epoch 151/180\n",
            "113/113 [==============================] - 18s 160ms/step - loss: 0.0071\n",
            "Epoch 152/180\n",
            "113/113 [==============================] - 19s 164ms/step - loss: 0.0071\n",
            "Epoch 153/180\n",
            "113/113 [==============================] - 18s 162ms/step - loss: 0.0070\n",
            "Epoch 154/180\n",
            "113/113 [==============================] - 18s 161ms/step - loss: 0.0070\n",
            "Epoch 155/180\n",
            "113/113 [==============================] - 18s 158ms/step - loss: 0.0071\n",
            "Epoch 156/180\n",
            "113/113 [==============================] - 18s 161ms/step - loss: 0.0071\n",
            "Epoch 157/180\n",
            "113/113 [==============================] - 18s 162ms/step - loss: 0.0071\n",
            "Epoch 158/180\n",
            "113/113 [==============================] - 18s 159ms/step - loss: 0.0071\n",
            "Epoch 159/180\n",
            "113/113 [==============================] - 18s 159ms/step - loss: 0.0071\n",
            "Epoch 160/180\n",
            "113/113 [==============================] - 18s 158ms/step - loss: 0.0070\n",
            "Epoch 161/180\n",
            "113/113 [==============================] - 18s 161ms/step - loss: 0.0070\n",
            "Epoch 162/180\n",
            "113/113 [==============================] - 18s 162ms/step - loss: 0.0071\n",
            "Epoch 163/180\n",
            "113/113 [==============================] - 18s 160ms/step - loss: 0.0070\n",
            "Epoch 164/180\n",
            "113/113 [==============================] - 18s 159ms/step - loss: 0.0070\n",
            "Epoch 165/180\n",
            "113/113 [==============================] - 18s 157ms/step - loss: 0.0071\n",
            "Epoch 166/180\n",
            "113/113 [==============================] - 18s 161ms/step - loss: 0.0071\n",
            "Epoch 167/180\n",
            "113/113 [==============================] - 18s 160ms/step - loss: 0.0071\n",
            "Epoch 168/180\n",
            "113/113 [==============================] - 18s 160ms/step - loss: 0.0070\n",
            "Epoch 169/180\n",
            "113/113 [==============================] - 18s 159ms/step - loss: 0.0071\n",
            "Epoch 170/180\n",
            "113/113 [==============================] - 18s 161ms/step - loss: 0.0069\n",
            "Epoch 171/180\n",
            "113/113 [==============================] - 18s 159ms/step - loss: 0.0069\n",
            "Epoch 172/180\n",
            "113/113 [==============================] - 18s 159ms/step - loss: 0.0069\n",
            "Epoch 173/180\n",
            "113/113 [==============================] - 18s 162ms/step - loss: 0.0069\n",
            "Epoch 174/180\n",
            "113/113 [==============================] - 18s 158ms/step - loss: 0.0069\n",
            "Epoch 175/180\n",
            "113/113 [==============================] - 18s 160ms/step - loss: 0.0072\n",
            "Epoch 176/180\n",
            "113/113 [==============================] - 18s 160ms/step - loss: 0.0070\n",
            "Epoch 177/180\n",
            "113/113 [==============================] - 18s 159ms/step - loss: 0.0069\n",
            "Epoch 178/180\n",
            "113/113 [==============================] - 18s 160ms/step - loss: 0.0070\n",
            "Epoch 179/180\n",
            "113/113 [==============================] - 18s 160ms/step - loss: 0.0069\n",
            "Epoch 180/180\n",
            "113/113 [==============================] - 18s 158ms/step - loss: 0.0068\n"
          ],
          "name": "stdout"
        },
        {
          "output_type": "execute_result",
          "data": {
            "text/plain": [
              "<tensorflow.python.keras.callbacks.History at 0x7fab931228d0>"
            ]
          },
          "metadata": {
            "tags": []
          },
          "execution_count": 22
        }
      ]
    },
    {
      "cell_type": "code",
      "metadata": {
        "id": "aY1JQ-w_seYU",
        "colab_type": "code",
        "colab": {}
      },
      "source": [
        "pred_list = []\n",
        "\n",
        "batch = testingData[-x_train.shape[1]:].reshape((1, x_train.shape[1], 1))\n",
        "\n",
        "for i in range(x_train.shape[1]):\n",
        "    pred_list.append(regressior.predict(batch)[0])\n",
        "    batch = np.append(batch[:,1:,:],[[pred_list[i]]], axis=1)\n",
        "    \n"
      ],
      "execution_count": 0,
      "outputs": []
    },
    {
      "cell_type": "code",
      "metadata": {
        "id": "YmYDnseG8j8y",
        "colab_type": "code",
        "colab": {}
      },
      "source": [
        "df_predict = pd.DataFrame(scaler.inverse_transform(pred_list), index=df[-x_train.shape[1]:].index, columns=['Predictions'])\n",
        "\n",
        "df_test = pd.concat([df, df_predict], axis=1)\n",
        "df_test.to_csv('pred2.csv', index=False)"
      ],
      "execution_count": 0,
      "outputs": []
    },
    {
      "cell_type": "markdown",
      "metadata": {
        "id": "xPnR5HAw8jvm",
        "colab_type": "text"
      },
      "source": [
        ""
      ]
    },
    {
      "cell_type": "code",
      "metadata": {
        "id": "zdy006np8y1M",
        "colab_type": "code",
        "outputId": "e32252d5-f19b-45ec-a3d2-0102734566de",
        "colab": {
          "base_uri": "https://localhost:8080/",
          "height": 163
        }
      },
      "source": [
        "df_test.tail(100)"
      ],
      "execution_count": 0,
      "outputs": [
        {
          "output_type": "error",
          "ename": "NameError",
          "evalue": "ignored",
          "traceback": [
            "\u001b[0;31m---------------------------------------------------------------------------\u001b[0m",
            "\u001b[0;31mNameError\u001b[0m                                 Traceback (most recent call last)",
            "\u001b[0;32m<ipython-input-1-10d9abd5b6b1>\u001b[0m in \u001b[0;36m<module>\u001b[0;34m()\u001b[0m\n\u001b[0;32m----> 1\u001b[0;31m \u001b[0mdf_test\u001b[0m\u001b[0;34m.\u001b[0m\u001b[0mtail\u001b[0m\u001b[0;34m(\u001b[0m\u001b[0;36m100\u001b[0m\u001b[0;34m)\u001b[0m\u001b[0;34m\u001b[0m\u001b[0;34m\u001b[0m\u001b[0m\n\u001b[0m",
            "\u001b[0;31mNameError\u001b[0m: name 'df_test' is not defined"
          ]
        }
      ]
    },
    {
      "cell_type": "code",
      "metadata": {
        "id": "bJ2UL3TO83n-",
        "colab_type": "code",
        "outputId": "338e114e-25ff-47fa-a9a6-2dbb9884e6db",
        "colab": {
          "base_uri": "https://localhost:8080/",
          "height": 265
        }
      },
      "source": [
        "plt.plot(df_test.index, df_test['Temp C'])\n",
        "plt.plot(df_test.index, df_test['Predictions'], color='r')\n",
        "plt.show()"
      ],
      "execution_count": 0,
      "outputs": [
        {
          "output_type": "display_data",
          "data": {
            "image/png": "[encoded data removed]",
            "text/plain": [
              "<Figure size 432x288 with 1 Axes>"
            ]
          },
          "metadata": {
            "tags": [],
            "needs_background": "light"
          }
        }
      ]
    }
  ]
}